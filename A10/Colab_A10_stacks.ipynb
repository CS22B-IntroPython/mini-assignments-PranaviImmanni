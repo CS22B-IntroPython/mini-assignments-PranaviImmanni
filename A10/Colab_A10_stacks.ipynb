{
  "cells": [
    {
      "cell_type": "markdown",
      "source": [
        "##**Stack Questions**"
      ],
      "metadata": {
        "id": "cP32wAV3Yi-4"
      }
    },
    {
      "cell_type": "markdown",
      "source": [
        "## Question 1: Write a function to sort a stack."
      ],
      "metadata": {
        "id": "KqdNjm1oY_ss"
      }
    },
    {
      "cell_type": "code",
      "source": [
        "def sort_stack(stack):\n",
        "  # Your code here\n",
        "\n",
        "  temp_stack = []\n",
        "  while stack:\n",
        "    current = stack.pop()\n",
        "    while temp_stack and temp_stack[-1] > current:\n",
        "            stack.append(temp_stack.pop())\n",
        "    temp_stack.append(current)\n",
        "\n",
        "  return temp_stack\n",
        "\n",
        "\n",
        "\n",
        "stack = [34, 3, 31, 98, 92, 23]\n",
        "print(sort_stack(stack))"
      ],
      "metadata": {
        "id": "mb9K46p3Ym0N",
        "outputId": "0ba66401-1410-42b8-8632-61e07578e122",
        "colab": {
          "base_uri": "https://localhost:8080/"
        }
      },
      "execution_count": 9,
      "outputs": [
        {
          "output_type": "stream",
          "name": "stdout",
          "text": [
            "[3, 23, 31, 34, 92, 98]\n"
          ]
        }
      ]
    },
    {
      "cell_type": "markdown",
      "metadata": {
        "id": "jFxb6ss_Whwl"
      },
      "source": [
        "## Question 2: Depict the following image as a list.\n",
        "\n",
        "<img src=\"https://miro.medium.com/max/1050/1*XifPIMxbamGKhz5UAEdz2w.png\">\n",
        "\n",
        "#### Queue\n",
        "1. Add the number 9 to the list.\n",
        "2. Remove the first number (7) from the list.\n",
        "\n",
        "#### Stack\n",
        "3. Add the number 4 to the same list.\n",
        "4. Remove the last number added (4) from the list."
      ]
    },
    {
      "cell_type": "code",
      "execution_count": 12,
      "metadata": {
        "id": "XOm7YLTEWhwm",
        "outputId": "7463d11a-96c2-429c-e329-ee6af6aab8f5",
        "colab": {
          "base_uri": "https://localhost:8080/"
        }
      },
      "outputs": [
        {
          "output_type": "stream",
          "name": "stdout",
          "text": [
            "[3, 1, 6, 8, 9]\n"
          ]
        }
      ],
      "source": [
        "#Your Answer:\n",
        "#Queue\n",
        "list = [7,3,1,6,8]\n",
        "list.append(9)\n",
        "list.pop(0)\n",
        "#Stack\n",
        "list.append(4)\n",
        "list.pop()\n",
        "\n",
        "print(list)"
      ]
    },
    {
      "cell_type": "markdown",
      "metadata": {
        "id": "tQ3kgHVtWhwn"
      },
      "source": [
        "#### Question 3: Nodes\n",
        "\n",
        "<img src=\"https://encrypted-tbn0.gstatic.com/images?q=tbn:ANd9GcQW8-twGk0hCILE-muHBnG93hZJh2Qvgs7pVA&s\">\n",
        "\n",
        "1. Use a data structure of your choice to denote the different nodes.\n",
        "\n",
        "2. Create a function that sums all of the \"children\". Test with the node 10 (Expected answer is 37).\n"
      ]
    },
    {
      "cell_type": "code",
      "execution_count": 24,
      "metadata": {
        "id": "UU0rjzjXWhwn",
        "outputId": "d34fae9d-ca6c-4645-8c5d-f8c565fa07bc",
        "colab": {
          "base_uri": "https://localhost:8080/"
        }
      },
      "outputs": [
        {
          "output_type": "stream",
          "name": "stdout",
          "text": [
            "37\n"
          ]
        }
      ],
      "source": [
        "#Your Answer:\n",
        "# Define the tree using a dictionary\n",
        "tree = {\n",
        "    8: [3, 10],\n",
        "    3: [1, 6],\n",
        "    10: [14, 1, 13, 9],\n",
        "    6: [4, 7],\n",
        "    14: [],\n",
        "    1: [],\n",
        "    4: [],\n",
        "    7: [],\n",
        "    13: [],\n",
        "    9: []\n",
        "}\n",
        "\n",
        "def sum_children(node):\n",
        "    total = 0\n",
        "    for child in tree.get(node, []):\n",
        "        total += child\n",
        "        total += sum_children(child)\n",
        "    return total\n",
        "\n",
        "result = sum_children(10)\n",
        "print(result)"
      ]
    }
  ],
  "metadata": {
    "hide_input": false,
    "kernelspec": {
      "display_name": "Python 3",
      "language": "python",
      "name": "python3"
    },
    "language_info": {
      "codemirror_mode": {
        "name": "ipython",
        "version": 3
      },
      "file_extension": ".py",
      "mimetype": "text/x-python",
      "name": "python",
      "nbconvert_exporter": "python",
      "pygments_lexer": "ipython3",
      "version": "3.8.3"
    },
    "toc": {
      "base_numbering": 1,
      "nav_menu": {},
      "number_sections": true,
      "sideBar": true,
      "skip_h1_title": false,
      "title_cell": "Table of Contents",
      "title_sidebar": "Contents",
      "toc_cell": false,
      "toc_position": {},
      "toc_section_display": true,
      "toc_window_display": false
    },
    "colab": {
      "provenance": []
    }
  },
  "nbformat": 4,
  "nbformat_minor": 0
}